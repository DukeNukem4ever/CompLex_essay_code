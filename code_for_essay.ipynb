{
  "nbformat": 4,
  "nbformat_minor": 0,
  "metadata": {
    "colab": {
      "name": "Essay_code.ipynb",
      "provenance": [],
      "collapsed_sections": [],
      "toc_visible": true
    },
    "kernelspec": {
      "name": "python3",
      "display_name": "Python 3"
    }
  },
  "cells": [
    {
      "cell_type": "code",
      "metadata": {
        "id": "8bylg8JxU3Y0",
        "colab_type": "code",
        "colab": {}
      },
      "source": [
        "#!pip install gensim\n",
        "import numpy as np\n",
        "import re\n",
        "import gensim\n",
        "import logging\n",
        "import nltk.data\n",
        "import pandas as pd\n",
        "import urllib.request\n",
        "from bs4 import BeautifulSoup\n",
        "from nltk.corpus import stopwords\n",
        "from gensim.models import word2vec\n",
        "import matplotlib.pyplot as plt\n",
        "import scipy\n",
        "import scipy.cluster.hierarchy as hcluster\n",
        "import collections\n",
        "\n",
        "\n",
        "import warnings\n",
        "warnings.filterwarnings('ignore')"
      ],
      "execution_count": 1,
      "outputs": []
    },
    {
      "cell_type": "code",
      "metadata": {
        "id": "j4I_fjynU8Vm",
        "colab_type": "code",
        "colab": {
          "base_uri": "https://localhost:8080/",
          "height": 54
        },
        "outputId": "8d8b7bc4-bfb8-43a0-e153-85c55f5b016e"
      },
      "source": [
        "urllib.request.urlretrieve(\"http://rusvectores.org/static/models/rusvectores2/ruscorpora_mystem_cbow_300_2_2015.bin.gz\", \"ruscorpora_mystem_cbow_300_2_2015.bin.gz\")"
      ],
      "execution_count": 2,
      "outputs": [
        {
          "output_type": "execute_result",
          "data": {
            "text/plain": [
              "('ruscorpora_mystem_cbow_300_2_2015.bin.gz',\n",
              " <http.client.HTTPMessage at 0x7f0e88bb0ef0>)"
            ]
          },
          "metadata": {
            "tags": []
          },
          "execution_count": 2
        }
      ]
    },
    {
      "cell_type": "code",
      "metadata": {
        "id": "8qOLAHaWU8YU",
        "colab_type": "code",
        "colab": {}
      },
      "source": [
        "m = 'ruscorpora_mystem_cbow_300_2_2015.bin.gz'\n",
        "\n",
        "if m.endswith('.vec.gz'):\n",
        "    model = gensim.models.KeyedVectors.load_word2vec_format(m, binary=False)\n",
        "elif m.endswith('.bin.gz'):\n",
        "    model = gensim.models.KeyedVectors.load_word2vec_format(m, binary=True)\n",
        "else:\n",
        "    model = gensim.models.KeyedVectors.load(m)"
      ],
      "execution_count": 3,
      "outputs": []
    },
    {
      "cell_type": "code",
      "metadata": {
        "id": "Osfu7CBqZM_5",
        "colab_type": "code",
        "colab": {}
      },
      "source": [
        "from sklearn.cluster import KMeans"
      ],
      "execution_count": 4,
      "outputs": []
    },
    {
      "cell_type": "code",
      "metadata": {
        "id": "zqcrXVfEx9Yi",
        "colab_type": "code",
        "colab": {}
      },
      "source": [
        "def clusterization(word):\n",
        "  with open (\"data_essay_2.txt\",\"r\",encoding=\"utf-8-sig\") as my_file:\n",
        "    read_file = my_file.read()\n",
        "    adjectives = re.findall(r'(\\w*)_%s' % word, str(read_file),flags= re.DOTALL)\n",
        "    dictionary = {}\n",
        "    for adj in adjectives:\n",
        "        adj = adj + \"_A\"\n",
        "        if adj in model:            \n",
        "            dictionary[adj] = model[adj]\n",
        "        else:\n",
        "            print('Увы, слова \"%s\" нет в модели!' % adj)\n",
        "    noun = \"%s_S\" % word\n",
        "    phrase_dict = {}\n",
        "    \n",
        "    for k, v in dictionary.items():\n",
        "      dt = v + model[noun]\n",
        "      couple = k.strip(\"_A\") + \"_\" + word\n",
        "      phrase_dict[couple] = dt\n",
        "    \n",
        "    dictolist = []\n",
        "    for d in phrase_dict.values():\n",
        "      dictolist.append(d)\n",
        "    X = np.array(dictolist)\n",
        "    Z = hcluster.linkage(X,'complete')\n",
        "    plt.figure()\n",
        "    dn = hcluster.dendrogram(Z)\n",
        "    print()\n",
        "    print(\"Словосочетания со словом \\\"%s\\\":\" % word)\n",
        "    print()\n",
        "    for k in phrase_dict.keys():\n",
        "      print(k)\n",
        "    print()\n",
        "    print(\"Иерархическая кластеризация\")\n",
        "    print()\n",
        "    plt.show()\n",
        "    clusters = hcluster.fcluster(Z, 1)\n",
        "    print(clusters)\n",
        "    #np.mean(clusters)\n",
        "    print('Estimated number of clusters: %d' % len(set(clusters)))\n",
        "    print()\n",
        "    if len(set(clusters)) < 2:\n",
        "      kmeans = KMeans(n_clusters=len(set(clusters)) + 2).fit(X)\n",
        "    else:\n",
        "      kmeans = KMeans(n_clusters=len(set(clusters))).fit(X)\n",
        "    print(\"Кластеры, полученные методом K-средних\")\n",
        "    print(kmeans.predict(dictolist))\n"
      ],
      "execution_count": 7,
      "outputs": []
    },
    {
      "cell_type": "code",
      "metadata": {
        "id": "bmgn2mLJx9W-",
        "colab_type": "code",
        "colab": {
          "base_uri": "https://localhost:8080/",
          "height": 1000
        },
        "outputId": "bed50928-73ca-4211-d3e4-342a153a50d5"
      },
      "source": [
        "word_list = ['торт','машина','дверь','корабль','книга','винтовка','взрыв','кот','елка','еж']\n",
        "for w in word_list:\n",
        "  clusterization(w)\n",
        "  print()\n",
        "  print()"
      ],
      "execution_count": 8,
      "outputs": [
        {
          "output_type": "stream",
          "text": [
            "\n",
            "Словосочетания со словом \"торт\":\n",
            "\n",
            "свадебный_торт\n",
            "вкусный_торт\n",
            "праздничный_торт\n",
            "шоколадный_торт\n",
            "детский_торт\n",
            "огромный_торт\n",
            "большой_торт\n",
            "красивый_торт\n",
            "готовый_торт\n",
            "домашний_торт\n",
            "\n",
            "Иерархическая кластеризация\n",
            "\n"
          ],
          "name": "stdout"
        },
        {
          "output_type": "display_data",
          "data": {
            "image/png": "[encoded data removed]",
            "text/plain": [
              "<Figure size 432x288 with 1 Axes>"
            ]
          },
          "metadata": {
            "tags": [],
            "needs_background": "light"
          }
        },
        {
          "output_type": "stream",
          "text": [
            "[1 1 1 1 1 1 1 1 1 1]\n",
            "Estimated number of clusters: 1\n",
            "\n",
            "Кластеры, полученные методом K-средних\n",
            "[0 0 0 0 0 1 1 0 2 0]\n",
            "\n",
            "\n",
            "\n",
            "Словосочетания со словом \"машина\":\n",
            "\n",
            "стиральный_машина\n",
            "новый_машина\n",
            "виртуальный_машина\n",
            "посудомоечный_машина\n",
            "боевой_машина\n",
            "швейный_машина\n",
            "государственный_машина\n",
            "поисковый_машина\n",
            "пожарный_машина\n",
            "хороший_машина\n",
            "\n",
            "Иерархическая кластеризация\n",
            "\n"
          ],
          "name": "stdout"
        },
        {
          "output_type": "display_data",
          "data": {
            "image/png": "[encoded data removed]",
            "text/plain": [
              "<Figure size 432x288 with 1 Axes>"
            ]
          },
          "metadata": {
            "tags": [],
            "needs_background": "light"
          }
        },
        {
          "output_type": "stream",
          "text": [
            "[4 1 2 4 3 4 2 3 4 1]\n",
            "Estimated number of clusters: 4\n",
            "\n",
            "Кластеры, полученные методом K-средних\n",
            "[0 1 3 0 2 0 3 2 2 1]\n",
            "\n",
            "\n",
            "\n",
            "Словосочетания со словом \"дверь\":\n",
            "\n",
            "входной_дверь\n",
            "металлический_дверь\n",
            "задний_дверь\n",
            "открытый_дверь\n",
            "железный_дверь\n",
            "стальной_дверь\n",
            "закрытый_дверь\n",
            "водительский_дверь\n",
            "передний_дверь\n",
            "стеклянный_дверь\n",
            "\n",
            "Иерархическая кластеризация\n",
            "\n"
          ],
          "name": "stdout"
        },
        {
          "output_type": "display_data",
          "data": {
            "image/png": "[encoded data removed]",
            "text/plain": [
              "<Figure size 432x288 with 1 Axes>"
            ]
          },
          "metadata": {
            "tags": [],
            "needs_background": "light"
          }
        },
        {
          "output_type": "stream",
          "text": [
            "[2 1 3 2 1 1 2 3 3 1]\n",
            "Estimated number of clusters: 3\n",
            "\n",
            "Кластеры, полученные методом K-средних\n",
            "[2 0 1 2 0 0 2 1 1 0]\n",
            "\n",
            "\n",
            "\n",
            "Словосочетания со словом \"корабль\":\n",
            "\n",
            "космический_корабль\n",
            "военный_корабль\n",
            "боевой_корабль\n",
            "линейный_корабль\n",
            "большой_корабль\n",
            "надводный_корабль\n",
            "новый_корабль\n",
            "американский_корабль\n",
            "десантный_корабль\n",
            "грузовой_корабль\n",
            "\n",
            "Иерархическая кластеризация\n",
            "\n"
          ],
          "name": "stdout"
        },
        {
          "output_type": "display_data",
          "data": {
            "image/png": "[encoded data removed]",
            "text/plain": [
              "<Figure size 432x288 with 1 Axes>"
            ]
          },
          "metadata": {
            "tags": [],
            "needs_background": "light"
          }
        },
        {
          "output_type": "stream",
          "text": [
            "[4 1 1 2 4 2 4 4 2 3]\n",
            "Estimated number of clusters: 4\n",
            "\n",
            "Кластеры, полученные методом K-средних\n",
            "[1 0 0 1 3 1 2 2 1 1]\n",
            "\n",
            "\n",
            "\n",
            "Словосочетания со словом \"книга\":\n",
            "\n",
            "красный_книга\n",
            "новый_книга\n",
            "электронный_книга\n",
            "хороший_книга\n",
            "настоящий_книга\n",
            "гостевой_книга\n",
            "детский_книга\n",
            "большой_книга\n",
            "телефонный_книга\n",
            "настольный_книга\n",
            "\n",
            "Иерархическая кластеризация\n",
            "\n"
          ],
          "name": "stdout"
        },
        {
          "output_type": "display_data",
          "data": {
            "image/png": "[encoded data removed]",
            "text/plain": [
              "<Figure size 432x288 with 1 Axes>"
            ]
          },
          "metadata": {
            "tags": [],
            "needs_background": "light"
          }
        },
        {
          "output_type": "stream",
          "text": [
            "[1 2 2 2 2 1 1 2 1 2]\n",
            "Estimated number of clusters: 2\n",
            "\n",
            "Кластеры, полученные методом K-средних\n",
            "[1 0 1 0 0 1 1 0 1 1]\n",
            "\n",
            "\n",
            "\n",
            "Словосочетания со словом \"винтовка\":\n",
            "\n",
            "снайперский_винтовка\n",
            "пневматический_винтовка\n",
            "штурмовой_винтовка\n",
            "автоматический_винтовка\n",
            "новый_винтовка\n",
            "малокалиберный_винтовка\n",
            "мелкокалиберный_винтовка\n",
            "американский_винтовка\n",
            "охотничий_винтовка\n",
            "немецкий_винтовка\n",
            "\n",
            "Иерархическая кластеризация\n",
            "\n"
          ],
          "name": "stdout"
        },
        {
          "output_type": "display_data",
          "data": {
            "image/png": "[encoded data removed]",
            "text/plain": [
              "<Figure size 432x288 with 1 Axes>"
            ]
          },
          "metadata": {
            "tags": [],
            "needs_background": "light"
          }
        },
        {
          "output_type": "stream",
          "text": [
            "[2 2 2 2 1 2 2 1 2 1]\n",
            "Estimated number of clusters: 2\n",
            "\n",
            "Кластеры, полученные методом K-средних\n",
            "[0 0 0 0 1 0 0 1 0 1]\n",
            "\n",
            "\n",
            "\n",
            "Словосочетания со словом \"взрыв\":\n",
            "\n",
            "большой_взрыв\n",
            "ядерный_взрыв\n",
            "мощный_взрыв\n",
            "социальный_взрыв\n",
            "атомный_взрыв\n",
            "демографический_взрыв\n",
            "сильный_взрыв\n",
            "новый_взрыв\n",
            "подземный_взрыв\n",
            "настоящий_взрыв\n",
            "\n",
            "Иерархическая кластеризация\n",
            "\n"
          ],
          "name": "stdout"
        },
        {
          "output_type": "display_data",
          "data": {
            "image/png": "[encoded data removed]",
            "text/plain": [
              "<Figure size 432x288 with 1 Axes>"
            ]
          },
          "metadata": {
            "tags": [],
            "needs_background": "light"
          }
        },
        {
          "output_type": "stream",
          "text": [
            "[4 1 4 3 1 3 4 2 1 2]\n",
            "Estimated number of clusters: 4\n",
            "\n",
            "Кластеры, полученные методом K-средних\n",
            "[2 1 2 3 1 3 2 0 1 0]\n",
            "\n",
            "\n",
            "\n",
            "Словосочетания со словом \"кот\":\n",
            "\n",
            "черный_кот\n",
            "рыжий_кот\n",
            "белый_кот\n",
            "домашний_кот\n",
            "дикий_кот\n",
            "любимый_кот\n",
            "большой_кот\n",
            "взрослый_кот\n",
            "мартовский_кот\n",
            "жирный_кот\n",
            "\n",
            "Иерархическая кластеризация\n",
            "\n"
          ],
          "name": "stdout"
        },
        {
          "output_type": "display_data",
          "data": {
            "image/png": "[encoded data removed]",
            "text/plain": [
              "<Figure size 432x288 with 1 Axes>"
            ]
          },
          "metadata": {
            "tags": [],
            "needs_background": "light"
          }
        },
        {
          "output_type": "stream",
          "text": [
            "[1 1 1 2 2 2 2 2 1 1]\n",
            "Estimated number of clusters: 2\n",
            "\n",
            "Кластеры, полученные методом K-средних\n",
            "[1 1 1 0 0 0 0 0 1 1]\n",
            "\n",
            "\n",
            "\n",
            "Словосочетания со словом \"елка\":\n",
            "\n",
            "новогодний_елка\n",
            "главный_елка\n",
            "рождественский_елка\n",
            "искусственный_елка\n",
            "городской_елка\n",
            "живой_елка\n",
            "большой_елка\n",
            "кремлевский_елка\n",
            "праздничный_елка\n",
            "нарядный_елка\n",
            "\n",
            "Иерархическая кластеризация\n",
            "\n"
          ],
          "name": "stdout"
        },
        {
          "output_type": "display_data",
          "data": {
            "image/png": "[encoded data removed]",
            "text/plain": [
              "<Figure size 432x288 with 1 Axes>"
            ]
          },
          "metadata": {
            "tags": [],
            "needs_background": "light"
          }
        },
        {
          "output_type": "stream",
          "text": [
            "[3 5 3 1 2 1 5 2 4 4]\n",
            "Estimated number of clusters: 5\n",
            "\n",
            "Кластеры, полученные методом K-средних\n",
            "[4 1 4 2 3 2 1 3 0 0]\n",
            "\n",
            "\n",
            "\n",
            "Словосочетания со словом \"еж\":\n",
            "\n",
            "морской_еж\n",
            "противотанковый_еж\n",
            "ушастый_еж\n",
            "колючий_еж\n",
            "обыкновенный_еж\n",
            "серый_еж\n",
            "синий_еж\n",
            "старый_еж\n",
            "черный_еж\n",
            "маленький_еж\n",
            "\n",
            "Иерархическая кластеризация\n",
            "\n"
          ],
          "name": "stdout"
        },
        {
          "output_type": "display_data",
          "data": {
            "image/png": "[encoded data removed]",
            "text/plain": [
              "<Figure size 432x288 with 1 Axes>"
            ]
          },
          "metadata": {
            "tags": [],
            "needs_background": "light"
          }
        },
        {
          "output_type": "stream",
          "text": [
            "[1 2 3 2 3 1 1 3 1 3]\n",
            "Estimated number of clusters: 3\n",
            "\n",
            "Кластеры, полученные методом K-средних\n",
            "[1 2 0 2 0 1 1 0 1 0]\n",
            "\n",
            "\n"
          ],
          "name": "stdout"
        }
      ]
    }
  ]
}